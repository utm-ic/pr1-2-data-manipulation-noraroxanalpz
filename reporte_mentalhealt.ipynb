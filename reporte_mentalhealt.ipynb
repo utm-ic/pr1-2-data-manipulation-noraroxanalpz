{
  "cells": [
    {
      "cell_type": "markdown",
      "metadata": {
        "id": "E7yqHsTNXRf5"
      },
      "source": [
        "# Practica 1.1. Manipulación de datos\n",
        "## Nora Roxana López López\n",
        "## Objetivo\n",
        "\n",
        "En esta práctica, aprenderás a aplicar técnicas de análisis de datos utilizando Pandas para explorar un dataset relacionado con la salud mental. El objetivo es que pongas en práctica tus habilidades de manipulación, limpieza y análisis de datos para obtener conclusiones interesantes."
      ]
    },
    {
      "cell_type": "markdown",
      "source": [
        "**Paso 1: Carga del Dataset**\n",
        "Primero, vas a cargar el archivo CSV que contiene la información sobre diferentes factores que influyen en la salud mental. Utiliza la biblioteca Pandas para leer el archivo y observa las primeras filas del dataset. Esto te ayudará a familiarizarte con la información que vas a analizar."
      ],
      "metadata": {
        "id": "PMnv1yEoXy1s"
      }
    },
    {
      "cell_type": "code",
      "source": [
        "#Se importan librerías necesarias para lograr ejecutar el código\n",
        "import pandas as pd\n",
        "import numpy as np\n",
        "import matplotlib.pyplot as plt"
      ],
      "metadata": {
        "id": "UJYdh7vuZQYF"
      },
      "execution_count": 3,
      "outputs": []
    },
    {
      "cell_type": "code",
      "source": [
        "#Se carga el dataset y con head visualizamos el encabezado de la base\n",
        "mental_health = pd.read_csv('mental_health.csv')\n",
        "mental_health.head()"
      ],
      "metadata": {
        "colab": {
          "base_uri": "https://localhost:8080/",
          "height": 255
        },
        "id": "QzTXPGgJZSmJ",
        "outputId": "159b2931-945a-4dda-bb5d-327cde5b6695"
      },
      "execution_count": 4,
      "outputs": [
        {
          "output_type": "execute_result",
          "data": {
            "text/plain": [
              "   Age  Gender Education_Level Employment_Status  Sleep_Hours  \\\n",
              "0   56    Male      Bachelor's        Unemployed          6.0   \n",
              "1   69  Female      Bachelor's           Retired          8.8   \n",
              "2   46  Female        Master's          Employed          5.3   \n",
              "3   32  Female     High School        Unemployed          8.8   \n",
              "4   60  Female      Bachelor's           Retired          7.2   \n",
              "\n",
              "   Physical_Activity_Hrs  Social_Support_Score  Anxiety_Score  \\\n",
              "0                    0.4                     3              4   \n",
              "1                    2.8                     6             18   \n",
              "2                    1.6                     5              5   \n",
              "3                    0.5                     4              6   \n",
              "4                    0.7                     2              7   \n",
              "\n",
              "   Depression_Score  Stress_Level  ...  Chronic_Illnesses  Medication_Use  \\\n",
              "0                 2             9  ...                  0             NaN   \n",
              "1                 7             6  ...                  0             NaN   \n",
              "2                13             8  ...                  0             NaN   \n",
              "3                 3             4  ...                  1             NaN   \n",
              "4                15             3  ...                  0             NaN   \n",
              "\n",
              "  Therapy  Meditation  Substance_Use Financial_Stress  Work_Stress  \\\n",
              "0       0           1            NaN                4            3   \n",
              "1       1           0            NaN                1            4   \n",
              "2       0           1            NaN                8            7   \n",
              "3       0           0            NaN                7            4   \n",
              "4       1           1       Frequent                8            9   \n",
              "\n",
              "   Self_Esteem_Score  Life_Satisfaction_Score  Loneliness_Score  \n",
              "0                  7                        5                 1  \n",
              "1                  7                        4                 6  \n",
              "2                  8                        1                 1  \n",
              "3                  8                        4                 4  \n",
              "4                  5                        7                 7  \n",
              "\n",
              "[5 rows x 21 columns]"
            ],
            "text/html": [
              "\n",
              "  <div id=\"df-28655098-475b-43b9-9eb4-96d64e71343b\" class=\"colab-df-container\">\n",
              "    <div>\n",
              "<style scoped>\n",
              "    .dataframe tbody tr th:only-of-type {\n",
              "        vertical-align: middle;\n",
              "    }\n",
              "\n",
              "    .dataframe tbody tr th {\n",
              "        vertical-align: top;\n",
              "    }\n",
              "\n",
              "    .dataframe thead th {\n",
              "        text-align: right;\n",
              "    }\n",
              "</style>\n",
              "<table border=\"1\" class=\"dataframe\">\n",
              "  <thead>\n",
              "    <tr style=\"text-align: right;\">\n",
              "      <th></th>\n",
              "      <th>Age</th>\n",
              "      <th>Gender</th>\n",
              "      <th>Education_Level</th>\n",
              "      <th>Employment_Status</th>\n",
              "      <th>Sleep_Hours</th>\n",
              "      <th>Physical_Activity_Hrs</th>\n",
              "      <th>Social_Support_Score</th>\n",
              "      <th>Anxiety_Score</th>\n",
              "      <th>Depression_Score</th>\n",
              "      <th>Stress_Level</th>\n",
              "      <th>...</th>\n",
              "      <th>Chronic_Illnesses</th>\n",
              "      <th>Medication_Use</th>\n",
              "      <th>Therapy</th>\n",
              "      <th>Meditation</th>\n",
              "      <th>Substance_Use</th>\n",
              "      <th>Financial_Stress</th>\n",
              "      <th>Work_Stress</th>\n",
              "      <th>Self_Esteem_Score</th>\n",
              "      <th>Life_Satisfaction_Score</th>\n",
              "      <th>Loneliness_Score</th>\n",
              "    </tr>\n",
              "  </thead>\n",
              "  <tbody>\n",
              "    <tr>\n",
              "      <th>0</th>\n",
              "      <td>56</td>\n",
              "      <td>Male</td>\n",
              "      <td>Bachelor's</td>\n",
              "      <td>Unemployed</td>\n",
              "      <td>6.0</td>\n",
              "      <td>0.4</td>\n",
              "      <td>3</td>\n",
              "      <td>4</td>\n",
              "      <td>2</td>\n",
              "      <td>9</td>\n",
              "      <td>...</td>\n",
              "      <td>0</td>\n",
              "      <td>NaN</td>\n",
              "      <td>0</td>\n",
              "      <td>1</td>\n",
              "      <td>NaN</td>\n",
              "      <td>4</td>\n",
              "      <td>3</td>\n",
              "      <td>7</td>\n",
              "      <td>5</td>\n",
              "      <td>1</td>\n",
              "    </tr>\n",
              "    <tr>\n",
              "      <th>1</th>\n",
              "      <td>69</td>\n",
              "      <td>Female</td>\n",
              "      <td>Bachelor's</td>\n",
              "      <td>Retired</td>\n",
              "      <td>8.8</td>\n",
              "      <td>2.8</td>\n",
              "      <td>6</td>\n",
              "      <td>18</td>\n",
              "      <td>7</td>\n",
              "      <td>6</td>\n",
              "      <td>...</td>\n",
              "      <td>0</td>\n",
              "      <td>NaN</td>\n",
              "      <td>1</td>\n",
              "      <td>0</td>\n",
              "      <td>NaN</td>\n",
              "      <td>1</td>\n",
              "      <td>4</td>\n",
              "      <td>7</td>\n",
              "      <td>4</td>\n",
              "      <td>6</td>\n",
              "    </tr>\n",
              "    <tr>\n",
              "      <th>2</th>\n",
              "      <td>46</td>\n",
              "      <td>Female</td>\n",
              "      <td>Master's</td>\n",
              "      <td>Employed</td>\n",
              "      <td>5.3</td>\n",
              "      <td>1.6</td>\n",
              "      <td>5</td>\n",
              "      <td>5</td>\n",
              "      <td>13</td>\n",
              "      <td>8</td>\n",
              "      <td>...</td>\n",
              "      <td>0</td>\n",
              "      <td>NaN</td>\n",
              "      <td>0</td>\n",
              "      <td>1</td>\n",
              "      <td>NaN</td>\n",
              "      <td>8</td>\n",
              "      <td>7</td>\n",
              "      <td>8</td>\n",
              "      <td>1</td>\n",
              "      <td>1</td>\n",
              "    </tr>\n",
              "    <tr>\n",
              "      <th>3</th>\n",
              "      <td>32</td>\n",
              "      <td>Female</td>\n",
              "      <td>High School</td>\n",
              "      <td>Unemployed</td>\n",
              "      <td>8.8</td>\n",
              "      <td>0.5</td>\n",
              "      <td>4</td>\n",
              "      <td>6</td>\n",
              "      <td>3</td>\n",
              "      <td>4</td>\n",
              "      <td>...</td>\n",
              "      <td>1</td>\n",
              "      <td>NaN</td>\n",
              "      <td>0</td>\n",
              "      <td>0</td>\n",
              "      <td>NaN</td>\n",
              "      <td>7</td>\n",
              "      <td>4</td>\n",
              "      <td>8</td>\n",
              "      <td>4</td>\n",
              "      <td>4</td>\n",
              "    </tr>\n",
              "    <tr>\n",
              "      <th>4</th>\n",
              "      <td>60</td>\n",
              "      <td>Female</td>\n",
              "      <td>Bachelor's</td>\n",
              "      <td>Retired</td>\n",
              "      <td>7.2</td>\n",
              "      <td>0.7</td>\n",
              "      <td>2</td>\n",
              "      <td>7</td>\n",
              "      <td>15</td>\n",
              "      <td>3</td>\n",
              "      <td>...</td>\n",
              "      <td>0</td>\n",
              "      <td>NaN</td>\n",
              "      <td>1</td>\n",
              "      <td>1</td>\n",
              "      <td>Frequent</td>\n",
              "      <td>8</td>\n",
              "      <td>9</td>\n",
              "      <td>5</td>\n",
              "      <td>7</td>\n",
              "      <td>7</td>\n",
              "    </tr>\n",
              "  </tbody>\n",
              "</table>\n",
              "<p>5 rows × 21 columns</p>\n",
              "</div>\n",
              "    <div class=\"colab-df-buttons\">\n",
              "\n",
              "  <div class=\"colab-df-container\">\n",
              "    <button class=\"colab-df-convert\" onclick=\"convertToInteractive('df-28655098-475b-43b9-9eb4-96d64e71343b')\"\n",
              "            title=\"Convert this dataframe to an interactive table.\"\n",
              "            style=\"display:none;\">\n",
              "\n",
              "  <svg xmlns=\"http://www.w3.org/2000/svg\" height=\"24px\" viewBox=\"0 -960 960 960\">\n",
              "    <path d=\"M120-120v-720h720v720H120Zm60-500h600v-160H180v160Zm220 220h160v-160H400v160Zm0 220h160v-160H400v160ZM180-400h160v-160H180v160Zm440 0h160v-160H620v160ZM180-180h160v-160H180v160Zm440 0h160v-160H620v160Z\"/>\n",
              "  </svg>\n",
              "    </button>\n",
              "\n",
              "  <style>\n",
              "    .colab-df-container {\n",
              "      display:flex;\n",
              "      gap: 12px;\n",
              "    }\n",
              "\n",
              "    .colab-df-convert {\n",
              "      background-color: #E8F0FE;\n",
              "      border: none;\n",
              "      border-radius: 50%;\n",
              "      cursor: pointer;\n",
              "      display: none;\n",
              "      fill: #1967D2;\n",
              "      height: 32px;\n",
              "      padding: 0 0 0 0;\n",
              "      width: 32px;\n",
              "    }\n",
              "\n",
              "    .colab-df-convert:hover {\n",
              "      background-color: #E2EBFA;\n",
              "      box-shadow: 0px 1px 2px rgba(60, 64, 67, 0.3), 0px 1px 3px 1px rgba(60, 64, 67, 0.15);\n",
              "      fill: #174EA6;\n",
              "    }\n",
              "\n",
              "    .colab-df-buttons div {\n",
              "      margin-bottom: 4px;\n",
              "    }\n",
              "\n",
              "    [theme=dark] .colab-df-convert {\n",
              "      background-color: #3B4455;\n",
              "      fill: #D2E3FC;\n",
              "    }\n",
              "\n",
              "    [theme=dark] .colab-df-convert:hover {\n",
              "      background-color: #434B5C;\n",
              "      box-shadow: 0px 1px 3px 1px rgba(0, 0, 0, 0.15);\n",
              "      filter: drop-shadow(0px 1px 2px rgba(0, 0, 0, 0.3));\n",
              "      fill: #FFFFFF;\n",
              "    }\n",
              "  </style>\n",
              "\n",
              "    <script>\n",
              "      const buttonEl =\n",
              "        document.querySelector('#df-28655098-475b-43b9-9eb4-96d64e71343b button.colab-df-convert');\n",
              "      buttonEl.style.display =\n",
              "        google.colab.kernel.accessAllowed ? 'block' : 'none';\n",
              "\n",
              "      async function convertToInteractive(key) {\n",
              "        const element = document.querySelector('#df-28655098-475b-43b9-9eb4-96d64e71343b');\n",
              "        const dataTable =\n",
              "          await google.colab.kernel.invokeFunction('convertToInteractive',\n",
              "                                                    [key], {});\n",
              "        if (!dataTable) return;\n",
              "\n",
              "        const docLinkHtml = 'Like what you see? Visit the ' +\n",
              "          '<a target=\"_blank\" href=https://colab.research.google.com/notebooks/data_table.ipynb>data table notebook</a>'\n",
              "          + ' to learn more about interactive tables.';\n",
              "        element.innerHTML = '';\n",
              "        dataTable['output_type'] = 'display_data';\n",
              "        await google.colab.output.renderOutput(dataTable, element);\n",
              "        const docLink = document.createElement('div');\n",
              "        docLink.innerHTML = docLinkHtml;\n",
              "        element.appendChild(docLink);\n",
              "      }\n",
              "    </script>\n",
              "  </div>\n",
              "\n",
              "\n",
              "<div id=\"df-2688e553-9ee6-461e-9f19-a6b62af0d7f2\">\n",
              "  <button class=\"colab-df-quickchart\" onclick=\"quickchart('df-2688e553-9ee6-461e-9f19-a6b62af0d7f2')\"\n",
              "            title=\"Suggest charts\"\n",
              "            style=\"display:none;\">\n",
              "\n",
              "<svg xmlns=\"http://www.w3.org/2000/svg\" height=\"24px\"viewBox=\"0 0 24 24\"\n",
              "     width=\"24px\">\n",
              "    <g>\n",
              "        <path d=\"M19 3H5c-1.1 0-2 .9-2 2v14c0 1.1.9 2 2 2h14c1.1 0 2-.9 2-2V5c0-1.1-.9-2-2-2zM9 17H7v-7h2v7zm4 0h-2V7h2v10zm4 0h-2v-4h2v4z\"/>\n",
              "    </g>\n",
              "</svg>\n",
              "  </button>\n",
              "\n",
              "<style>\n",
              "  .colab-df-quickchart {\n",
              "      --bg-color: #E8F0FE;\n",
              "      --fill-color: #1967D2;\n",
              "      --hover-bg-color: #E2EBFA;\n",
              "      --hover-fill-color: #174EA6;\n",
              "      --disabled-fill-color: #AAA;\n",
              "      --disabled-bg-color: #DDD;\n",
              "  }\n",
              "\n",
              "  [theme=dark] .colab-df-quickchart {\n",
              "      --bg-color: #3B4455;\n",
              "      --fill-color: #D2E3FC;\n",
              "      --hover-bg-color: #434B5C;\n",
              "      --hover-fill-color: #FFFFFF;\n",
              "      --disabled-bg-color: #3B4455;\n",
              "      --disabled-fill-color: #666;\n",
              "  }\n",
              "\n",
              "  .colab-df-quickchart {\n",
              "    background-color: var(--bg-color);\n",
              "    border: none;\n",
              "    border-radius: 50%;\n",
              "    cursor: pointer;\n",
              "    display: none;\n",
              "    fill: var(--fill-color);\n",
              "    height: 32px;\n",
              "    padding: 0;\n",
              "    width: 32px;\n",
              "  }\n",
              "\n",
              "  .colab-df-quickchart:hover {\n",
              "    background-color: var(--hover-bg-color);\n",
              "    box-shadow: 0 1px 2px rgba(60, 64, 67, 0.3), 0 1px 3px 1px rgba(60, 64, 67, 0.15);\n",
              "    fill: var(--button-hover-fill-color);\n",
              "  }\n",
              "\n",
              "  .colab-df-quickchart-complete:disabled,\n",
              "  .colab-df-quickchart-complete:disabled:hover {\n",
              "    background-color: var(--disabled-bg-color);\n",
              "    fill: var(--disabled-fill-color);\n",
              "    box-shadow: none;\n",
              "  }\n",
              "\n",
              "  .colab-df-spinner {\n",
              "    border: 2px solid var(--fill-color);\n",
              "    border-color: transparent;\n",
              "    border-bottom-color: var(--fill-color);\n",
              "    animation:\n",
              "      spin 1s steps(1) infinite;\n",
              "  }\n",
              "\n",
              "  @keyframes spin {\n",
              "    0% {\n",
              "      border-color: transparent;\n",
              "      border-bottom-color: var(--fill-color);\n",
              "      border-left-color: var(--fill-color);\n",
              "    }\n",
              "    20% {\n",
              "      border-color: transparent;\n",
              "      border-left-color: var(--fill-color);\n",
              "      border-top-color: var(--fill-color);\n",
              "    }\n",
              "    30% {\n",
              "      border-color: transparent;\n",
              "      border-left-color: var(--fill-color);\n",
              "      border-top-color: var(--fill-color);\n",
              "      border-right-color: var(--fill-color);\n",
              "    }\n",
              "    40% {\n",
              "      border-color: transparent;\n",
              "      border-right-color: var(--fill-color);\n",
              "      border-top-color: var(--fill-color);\n",
              "    }\n",
              "    60% {\n",
              "      border-color: transparent;\n",
              "      border-right-color: var(--fill-color);\n",
              "    }\n",
              "    80% {\n",
              "      border-color: transparent;\n",
              "      border-right-color: var(--fill-color);\n",
              "      border-bottom-color: var(--fill-color);\n",
              "    }\n",
              "    90% {\n",
              "      border-color: transparent;\n",
              "      border-bottom-color: var(--fill-color);\n",
              "    }\n",
              "  }\n",
              "</style>\n",
              "\n",
              "  <script>\n",
              "    async function quickchart(key) {\n",
              "      const quickchartButtonEl =\n",
              "        document.querySelector('#' + key + ' button');\n",
              "      quickchartButtonEl.disabled = true;  // To prevent multiple clicks.\n",
              "      quickchartButtonEl.classList.add('colab-df-spinner');\n",
              "      try {\n",
              "        const charts = await google.colab.kernel.invokeFunction(\n",
              "            'suggestCharts', [key], {});\n",
              "      } catch (error) {\n",
              "        console.error('Error during call to suggestCharts:', error);\n",
              "      }\n",
              "      quickchartButtonEl.classList.remove('colab-df-spinner');\n",
              "      quickchartButtonEl.classList.add('colab-df-quickchart-complete');\n",
              "    }\n",
              "    (() => {\n",
              "      let quickchartButtonEl =\n",
              "        document.querySelector('#df-2688e553-9ee6-461e-9f19-a6b62af0d7f2 button');\n",
              "      quickchartButtonEl.style.display =\n",
              "        google.colab.kernel.accessAllowed ? 'block' : 'none';\n",
              "    })();\n",
              "  </script>\n",
              "</div>\n",
              "\n",
              "    </div>\n",
              "  </div>\n"
            ],
            "application/vnd.google.colaboratory.intrinsic+json": {
              "type": "dataframe",
              "variable_name": "mental_health"
            }
          },
          "metadata": {},
          "execution_count": 4
        }
      ]
    },
    {
      "cell_type": "markdown",
      "source": [
        "**Preguntas:**\n",
        "¿Cuántos registros y columnas tiene el dataset?\n",
        "🤔 *Tiene 1200 registros y 21 columnas.*\n",
        "\n"
      ],
      "metadata": {
        "id": "z5Ky8xXqaNEQ"
      }
    },
    {
      "cell_type": "code",
      "source": [
        "mental_health.shape # nos muestra el numero de datos y columnas"
      ],
      "metadata": {
        "colab": {
          "base_uri": "https://localhost:8080/"
        },
        "id": "yvDLunv4ZxlT",
        "outputId": "f18919e6-4010-4e46-834e-1c890bfc09e2"
      },
      "execution_count": 5,
      "outputs": [
        {
          "output_type": "execute_result",
          "data": {
            "text/plain": [
              "(1200, 21)"
            ]
          },
          "metadata": {},
          "execution_count": 5
        }
      ]
    },
    {
      "cell_type": "markdown",
      "source": [
        "¿Qué tipo de datos predominan?\n",
        "🤔 *Predominan los datos del tipo int64*"
      ],
      "metadata": {
        "id": "UcMe5TebaWz1"
      }
    },
    {
      "cell_type": "code",
      "source": [
        "mental_health.info() # nos da el tipo de variables"
      ],
      "metadata": {
        "colab": {
          "base_uri": "https://localhost:8080/"
        },
        "id": "RoCcEY4GaZed",
        "outputId": "ae36aced-c350-4565-a028-32fbed77579c"
      },
      "execution_count": 6,
      "outputs": [
        {
          "output_type": "stream",
          "name": "stdout",
          "text": [
            "<class 'pandas.core.frame.DataFrame'>\n",
            "RangeIndex: 1200 entries, 0 to 1199\n",
            "Data columns (total 21 columns):\n",
            " #   Column                         Non-Null Count  Dtype  \n",
            "---  ------                         --------------  -----  \n",
            " 0   Age                            1200 non-null   int64  \n",
            " 1   Gender                         1200 non-null   object \n",
            " 2   Education_Level                1200 non-null   object \n",
            " 3   Employment_Status              1200 non-null   object \n",
            " 4   Sleep_Hours                    1200 non-null   float64\n",
            " 5   Physical_Activity_Hrs          1200 non-null   float64\n",
            " 6   Social_Support_Score           1200 non-null   int64  \n",
            " 7   Anxiety_Score                  1200 non-null   int64  \n",
            " 8   Depression_Score               1200 non-null   int64  \n",
            " 9   Stress_Level                   1200 non-null   int64  \n",
            " 10  Family_History_Mental_Illness  1200 non-null   int64  \n",
            " 11  Chronic_Illnesses              1200 non-null   int64  \n",
            " 12  Medication_Use                 453 non-null    object \n",
            " 13  Therapy                        1200 non-null   int64  \n",
            " 14  Meditation                     1200 non-null   int64  \n",
            " 15  Substance_Use                  366 non-null    object \n",
            " 16  Financial_Stress               1200 non-null   int64  \n",
            " 17  Work_Stress                    1200 non-null   int64  \n",
            " 18  Self_Esteem_Score              1200 non-null   int64  \n",
            " 19  Life_Satisfaction_Score        1200 non-null   int64  \n",
            " 20  Loneliness_Score               1200 non-null   int64  \n",
            "dtypes: float64(2), int64(14), object(5)\n",
            "memory usage: 197.0+ KB\n"
          ]
        }
      ]
    },
    {
      "cell_type": "markdown",
      "source": [
        "**Paso 2: Exploración Inicial**\n",
        "Ahora que ya tienes los datos cargados, es momento de explorar un poco más. Consulta información general como el tipo de datos en cada columna, cuántos datos no nulos hay, y revisa las primeras filas. También obtén estadísticas básicas como la media y el rango de los datos. Esto te ayudará a detectar si algo llama la atención o si hay datos fuera de lo normal."
      ],
      "metadata": {
        "id": "nTxdy4j3bmKw"
      }
    },
    {
      "cell_type": "markdown",
      "source": [
        "**Preguntas:**\n",
        "¿Existen columnas que podrían ser categóricas pero aparecen como tipo object?\n",
        "🤔*Sí, por ejemplo las columnas 'Gender', 'Education_Level', 'Employment_Status', 'Medication_Use',\n",
        "       'Substance_Use'\"*"
      ],
      "metadata": {
        "id": "Lg_cq0kXbpsf"
      }
    },
    {
      "cell_type": "code",
      "source": [
        "# Identificar columnas con variables categóricas\n",
        "categoricas = mental_health.select_dtypes(include=['object', 'category']).columns\n",
        "print(\"Columnas categóricas:\")\n",
        "print(categoricas)"
      ],
      "metadata": {
        "colab": {
          "base_uri": "https://localhost:8080/"
        },
        "id": "k7U3JBNjfJ6C",
        "outputId": "5826d959-d68f-4234-cd23-66c7a7cb8665"
      },
      "execution_count": 9,
      "outputs": [
        {
          "output_type": "stream",
          "name": "stdout",
          "text": [
            "Columnas categóricas:\n",
            "Index(['Gender', 'Education_Level', 'Employment_Status', 'Medication_Use',\n",
            "       'Substance_Use'],\n",
            "      dtype='object')\n"
          ]
        }
      ]
    },
    {
      "cell_type": "markdown",
      "source": [
        "¿Hay valores que parecen inconsistentes o fuera de rango?\n",
        "🤔*Sí, se detectan outliers en las columnas \"Sleep_Hours\", \"Physical_Activity_Hrs\" y \"Therapy\".*"
      ],
      "metadata": {
        "id": "QBR9Lo8qbt2o"
      }
    },
    {
      "cell_type": "code",
      "source": [
        "#Al ejecutar este código, el box plot mostrará la distribución de los valores\n",
        "#La mediana (línea dentro de la caja): Nos da una idea del valor central.\n",
        "# Rango intercuartílico (caja): El rango entre el primer y tercer cuartil, lo que muestra la \"distribución normal\" de la mayoría de los valores.\n",
        "# Outliers (puntos fuera de los bigotes): Si hay valores muy alejados de la mayoría, podrían aparecer como puntos individuales.\n",
        "import seaborn as sns\n",
        "def Box_plot(mental_health):\n",
        "    plt.figure(figsize=(35,10))\n",
        "    plt.title(\"Box Plot\")\n",
        "    sns.boxplot(mental_health)\n",
        "    plt.show()\n",
        "\n",
        "Box_plot(mental_health)"
      ],
      "metadata": {
        "colab": {
          "base_uri": "https://localhost:8080/",
          "height": 873
        },
        "id": "cAtZ1s6ZbwdL",
        "outputId": "91c3989d-de40-42f3-f9f7-820eb0174230"
      },
      "execution_count": 19,
      "outputs": [
        {
          "output_type": "display_data",
          "data": {
            "text/plain": [
              "<Figure size 3500x1000 with 1 Axes>"
            ],
            "image/png": "[encoded data removed]"
          },
          "metadata": {}
        }
      ]
    },
    {
      "cell_type": "markdown",
      "source": [
        "**Paso 3: Limpieza de Datos**\n",
        "Es hora de \"limpiar\" los datos. Revisa si hay valores nulos o datos duplicados. Decide qué hacer con ellos: ¿los eliminarás, los reemplazarás o aplicarás otra estrategia? También asegúrate de que los tipos de datos de cada columna son correctos y convierte aquellos que no estén en el formato adecuado."
      ],
      "metadata": {
        "id": "1VOH5IJ8jibG"
      }
    },
    {
      "cell_type": "markdown",
      "source": [
        "**Preguntas:**\n",
        "¿Qué porcentaje del dataset contiene valores nulos?\n",
        "🤔*6.27% contiene datos nulos.*"
      ],
      "metadata": {
        "id": "o6wnz1ZYjo6n"
      }
    },
    {
      "cell_type": "code",
      "source": [
        "# Obtener el números de puntos de datos faltantes por cada columnas.\n",
        "missing_values_count = mental_health.isnull().sum()\n",
        "print(missing_values_count)"
      ],
      "metadata": {
        "colab": {
          "base_uri": "https://localhost:8080/"
        },
        "id": "Ei9LzD9AesYS",
        "outputId": "59b8a285-925b-46a3-e908-cba6fc727d9d"
      },
      "execution_count": 21,
      "outputs": [
        {
          "output_type": "stream",
          "name": "stdout",
          "text": [
            "Age                                0\n",
            "Gender                             0\n",
            "Education_Level                    0\n",
            "Employment_Status                  0\n",
            "Sleep_Hours                        0\n",
            "Physical_Activity_Hrs              0\n",
            "Social_Support_Score               0\n",
            "Anxiety_Score                      0\n",
            "Depression_Score                   0\n",
            "Stress_Level                       0\n",
            "Family_History_Mental_Illness      0\n",
            "Chronic_Illnesses                  0\n",
            "Medication_Use                   747\n",
            "Therapy                            0\n",
            "Meditation                         0\n",
            "Substance_Use                    834\n",
            "Financial_Stress                   0\n",
            "Work_Stress                        0\n",
            "Self_Esteem_Score                  0\n",
            "Life_Satisfaction_Score            0\n",
            "Loneliness_Score                   0\n",
            "dtype: int64\n"
          ]
        }
      ]
    },
    {
      "cell_type": "code",
      "source": [
        "# ¿Cuántos valores faltantes totales tenemos?\n",
        "total_cells = np.prod(mental_health.shape)\n",
        "total_missing = missing_values_count.sum()\n",
        "print(total_cells)\n",
        "print(total_missing)"
      ],
      "metadata": {
        "colab": {
          "base_uri": "https://localhost:8080/"
        },
        "id": "nhdGPtF_kBOu",
        "outputId": "942a30ae-4c3c-4377-aab1-ff2bef629739"
      },
      "execution_count": 23,
      "outputs": [
        {
          "output_type": "stream",
          "name": "stdout",
          "text": [
            "25200\n",
            "1581\n"
          ]
        }
      ]
    },
    {
      "cell_type": "code",
      "source": [
        "# porcentaje de datos que faltan\n",
        "percent_missing = (total_missing/total_cells)*100\n",
        "print(percent_missing )"
      ],
      "metadata": {
        "colab": {
          "base_uri": "https://localhost:8080/"
        },
        "id": "MyOUX-Hsj4cg",
        "outputId": "d6f03e72-e60d-43cf-c7d7-3083143b48ac"
      },
      "execution_count": 24,
      "outputs": [
        {
          "output_type": "stream",
          "name": "stdout",
          "text": [
            "6.273809523809523\n"
          ]
        }
      ]
    },
    {
      "cell_type": "markdown",
      "source": [
        "¿Qué estrategia decidiste aplicar para tratar los valores nulos y por qué?\n",
        "🤔*Se eliminaron filas que tenían más de dos columnas vacías para evitar sesgar los datos. Para las demás columnas, los valores nulos se reemplazaron por la mediana de cada columna numérica, ya que es una estrategia robusta que minimiza el impacto de valores extremos.*"
      ],
      "metadata": {
        "id": "1uCNNPIGkvfX"
      }
    },
    {
      "cell_type": "code",
      "source": [
        "# Estrategia para valores nulos: eliminar filas con muchos nulos\n",
        "# Rellenar otros con la mediana\n",
        "mental_health.dropna(thresh=len(mental_health.columns) - 2, inplace=True)\n",
        "mental_health.fillna(mental_health.median(numeric_only=True), inplace=True)"
      ],
      "metadata": {
        "id": "wM5fr-x1oMUD"
      },
      "execution_count": 28,
      "outputs": []
    },
    {
      "cell_type": "markdown",
      "source": [
        "**Paso 4: Análisis Estadístico**\n",
        "En este paso, vas a calcular algunas estadísticas básicas para tres columnas importantes: Anxiety_Score, Depression_Score y Stress_Level. Queremos saber cuál es la media, la mediana y la desviación estándar de estos valores. Esto te permitirá tener una idea general sobre cómo están distribuidos estos puntajes."
      ],
      "metadata": {
        "id": "mxvEyOSgp_IS"
      }
    },
    {
      "cell_type": "markdown",
      "source": [
        "¿Cuál de los tres puntajes tiene mayor variabilidad?\n",
        "🤔*La métrica con la mayor desviación estándar es la que presenta mayor variabilidad que es \"Anxiety_Score\"*"
      ],
      "metadata": {
        "id": "par_Q_CIqRSq"
      }
    },
    {
      "cell_type": "code",
      "source": [
        "# Paso 4: Análisis Estadístico\n",
        "cols = ['Anxiety_Score', 'Depression_Score', 'Stress_Level']\n",
        "stats = mental_health[cols].describe().loc[['mean', '50%', 'std']]\n",
        "variability = stats.loc['std'].idxmax()\n",
        "print(f\"La variable con mayor variabilidad es: {variability}\")"
      ],
      "metadata": {
        "colab": {
          "base_uri": "https://localhost:8080/"
        },
        "id": "uJuXvhCRoPcT",
        "outputId": "9fcf6d00-8f94-4fb2-8f13-bdc4cda4b87d"
      },
      "execution_count": 27,
      "outputs": [
        {
          "output_type": "stream",
          "name": "stdout",
          "text": [
            "La variable con mayor variabilidad es: Anxiety_Score\n"
          ]
        }
      ]
    },
    {
      "cell_type": "markdown",
      "source": [
        "¿Qué observas sobre la diferencia entre media y mediana en cada caso? ¿Qué te dice esto sobre la distribución?\n",
        "🤔 *Si la media y la mediana son similares, significa que la distribución es aproximadamente simétrica. Si hay una diferencia significativa, puede indicar una distribución sesgada (positiva o negativa), posiblemente influenciada por valores extremos.*"
      ],
      "metadata": {
        "id": "QnaCjJbXqvrO"
      }
    },
    {
      "cell_type": "markdown",
      "source": [
        "**Paso 5: Filtrado de Datos**\n",
        "Aquí vas a enfocarte en subconjuntos específicos del dataset. Primero, identifica a las personas que tienen un puntaje alto en ansiedad (puedes elegir un valor alto, como por encima de 80). Luego, clasifica a las personas según las horas de sueño que reportan (menos de 5 horas, entre 5 y 7 horas, y más de 7 horas) y analiza cómo varía el nivel de estrés en cada grupo."
      ],
      "metadata": {
        "id": "F9ANv2rSq_PO"
      }
    },
    {
      "cell_type": "markdown",
      "source": [
        "**Preguntas:**\n",
        "¿Qué porcentaje del total presenta niveles altos de ansiedad?\n",
        "🤔*Se encontró el porcentaje de personas con Anxiety_Score superior a 12 dividiendo el número de casos entre el total del dataset y multiplicando por 100. El resultado fue 40.58%*"
      ],
      "metadata": {
        "id": "JHIFHms1rF__"
      }
    },
    {
      "cell_type": "code",
      "source": [
        "# Paso 5: Filtrado de Datos\n",
        "#Según Ansiedad y Estrés, 28, (2022), 40-46, un nivel alto de ansiedad se puede considerar arriba de un score de 12.\n",
        "high_anxiety = mental_health[mental_health['Anxiety_Score'] > 12]\n",
        "high_anxiety_percentage = len(high_anxiety) / len(mental_health) * 100\n",
        "print(f\"El {high_anxiety_percentage:.2f}% de las personas presenta niveles altos de ansiedad.\")"
      ],
      "metadata": {
        "colab": {
          "base_uri": "https://localhost:8080/"
        },
        "id": "dWLrHOKKofvb",
        "outputId": "e08e7568-284d-4f68-aff1-3921282b08f7"
      },
      "execution_count": 33,
      "outputs": [
        {
          "output_type": "stream",
          "name": "stdout",
          "text": [
            "El 40.58% de las personas presenta niveles altos de ansiedad.\n"
          ]
        }
      ]
    },
    {
      "cell_type": "markdown",
      "source": [
        "¿Existe una relación visible entre las horas de sueño y el nivel de estrés?\n",
        "🤔*Se analizó el nivel de estrés promedio en función de la cantidad de horas de sueño. Si hay una tendencia clara (por ejemplo, mayor estrés en quienes duermen menos), podría indicar una relación inversa entre el sueño y el estrés.*\n"
      ],
      "metadata": {
        "id": "XhybC18qsTYf"
      }
    },
    {
      "cell_type": "code",
      "source": [
        "# Clasificación según horas de sueño\n",
        "bins = [0, 5, 7, np.inf]\n",
        "labels = ['<5 hours', '5-7 hours', '>7 hours']\n",
        "mental_health['Sleep_Category'] = pd.cut(mental_health['Sleep_Hours'], bins=bins, labels=labels)\n",
        "sleep_stress = mental_health.groupby('Sleep_Category')['Stress_Level'].mean()\n",
        "print(sleep_stress)"
      ],
      "metadata": {
        "colab": {
          "base_uri": "https://localhost:8080/"
        },
        "id": "wNpBy-9goi2x",
        "outputId": "6048e3ca-81c2-42a0-85b7-ad577bd43307"
      },
      "execution_count": 34,
      "outputs": [
        {
          "output_type": "stream",
          "name": "stdout",
          "text": [
            "Sleep_Category\n",
            "<5 hours     5.179245\n",
            "5-7 hours    4.931338\n",
            ">7 hours     5.004762\n",
            "Name: Stress_Level, dtype: float64\n"
          ]
        },
        {
          "output_type": "stream",
          "name": "stderr",
          "text": [
            "<ipython-input-34-4a0fdeca80a8>:5: FutureWarning: The default of observed=False is deprecated and will be changed to True in a future version of pandas. Pass observed=False to retain current behavior or observed=True to adopt the future default and silence this warning.\n",
            "  sleep_stress = mental_health.groupby('Sleep_Category')['Stress_Level'].mean()\n"
          ]
        }
      ]
    },
    {
      "cell_type": "markdown",
      "source": [
        "**Paso 6: Ordenamiento**\n",
        "Ahora vas a ordenar el dataset para encontrar a las personas con mayor satisfacción de vida y menor puntaje de soledad. ¿Puedes descubrir algún patrón? ¿Qué tienen en común estas personas?"
      ],
      "metadata": {
        "id": "aeXN_XOEskAI"
      }
    },
    {
      "cell_type": "markdown",
      "source": [
        "Preguntas:\n",
        "¿Qué características comunes encuentras en estas 10 personas?\n",
        "🤔 *Se identificaron patrones en las 10 personas con mayor satisfacción de vida y menor puntaje de soledad. Pueden tener en común factores como alta autoestima, buenos hábitos de sueño, recibir terapia, etc.*"
      ],
      "metadata": {
        "id": "Wzr-ysCpspOX"
      }
    },
    {
      "cell_type": "markdown",
      "source": [
        "¿Qué hipótesis podrías plantear sobre el vínculo entre satisfacción y soledad?\n",
        "🤔*Podría haber una relación inversa: a mayor satisfacción con la vida, menor sensación de soledad. También es posible que otros factores (como apoyo social o bienestar emocional) influyan en ambos aspectos.*"
      ],
      "metadata": {
        "id": "QxJTtu0MtS_h"
      }
    },
    {
      "cell_type": "code",
      "source": [
        "# Paso 6: Ordenamiento\n",
        "sorted_data = mental_health.sort_values(by=['Life_Satisfaction_Score', 'Loneliness_Score'], ascending=[False, True])\n",
        "top_10 = sorted_data.head(10)\n",
        "print(top_10)"
      ],
      "metadata": {
        "colab": {
          "base_uri": "https://localhost:8080/"
        },
        "id": "hKMXck5Roo6N",
        "outputId": "66885d1a-221e-47fc-c043-dfeb14857091"
      },
      "execution_count": 38,
      "outputs": [
        {
          "output_type": "stream",
          "name": "stdout",
          "text": [
            "     Age  Gender Education_Level Employment_Status  Sleep_Hours  \\\n",
            "14    53    Male      Bachelor's          Employed          4.9   \n",
            "33    44    Male      Bachelor's          Employed          7.2   \n",
            "83    61  Female             PhD        Unemployed          5.7   \n",
            "92    31  Female             PhD          Employed          6.8   \n",
            "103   43  Female           Other           Student          5.5   \n",
            "217   25  Female        Master's          Employed          6.9   \n",
            "262   49  Female     High School           Retired          3.6   \n",
            "391   44   Other             PhD           Retired          7.4   \n",
            "438   41  Female        Master's          Employed          5.4   \n",
            "675   29    Male           Other        Unemployed          8.0   \n",
            "\n",
            "     Physical_Activity_Hrs  Social_Support_Score  Anxiety_Score  \\\n",
            "14                     1.5                     5             17   \n",
            "33                     1.7                     3              4   \n",
            "83                     1.8                     4             17   \n",
            "92                     0.4                     8             20   \n",
            "103                    5.1                     9             12   \n",
            "217                    3.4                     4             15   \n",
            "262                    0.7                     6             14   \n",
            "391                    2.4                     4              7   \n",
            "438                    0.2                     1             18   \n",
            "675                    0.4                     3              7   \n",
            "\n",
            "     Depression_Score  Stress_Level  ...  Medication_Use  Therapy Meditation  \\\n",
            "14                  4             6  ...             NaN        0          1   \n",
            "33                  4             8  ...             NaN        0          0   \n",
            "83                 20             9  ...             NaN        0          1   \n",
            "92                 18             5  ...             NaN        0          0   \n",
            "103                 6             6  ...      Occasional        1          0   \n",
            "217                 5             1  ...             NaN        0          0   \n",
            "262                15             6  ...             NaN        0          0   \n",
            "391                 7             4  ...         Regular        1          0   \n",
            "438                 9             8  ...             NaN        0          1   \n",
            "675                 9             8  ...             NaN        0          0   \n",
            "\n",
            "     Substance_Use  Financial_Stress Work_Stress  Self_Esteem_Score  \\\n",
            "14      Occasional                 8           4                  6   \n",
            "33             NaN                 6           6                  7   \n",
            "83             NaN                 7           8                  6   \n",
            "92      Occasional                 1           5                  4   \n",
            "103            NaN                 6           8                  8   \n",
            "217     Occasional                 3           5                  6   \n",
            "262            NaN                 3           2                  4   \n",
            "391     Occasional                 3           4                  3   \n",
            "438            NaN                 2           6                  4   \n",
            "675            NaN                 8           5                  5   \n",
            "\n",
            "     Life_Satisfaction_Score  Loneliness_Score  Sleep_Category  \n",
            "14                         9                 1        <5 hours  \n",
            "33                         9                 1        >7 hours  \n",
            "83                         9                 1       5-7 hours  \n",
            "92                         9                 1       5-7 hours  \n",
            "103                        9                 1       5-7 hours  \n",
            "217                        9                 1       5-7 hours  \n",
            "262                        9                 1        <5 hours  \n",
            "391                        9                 1        >7 hours  \n",
            "438                        9                 1       5-7 hours  \n",
            "675                        9                 1        >7 hours  \n",
            "\n",
            "[10 rows x 22 columns]\n"
          ]
        }
      ]
    },
    {
      "cell_type": "markdown",
      "source": [
        "**Paso 7: Guardado de Resultados**\n",
        "Filtra el dataset para encontrar a las personas que reciben terapia y que además tienen un nivel bajo de estrés (por debajo de la mediana). Una vez que tengas este subconjunto, guarda la información en un nuevo archivo CSV para tenerlo listo para futuros análisis."
      ],
      "metadata": {
        "id": "pv9SmdbwtfTl"
      }
    },
    {
      "cell_type": "markdown",
      "source": [
        "¿Cuántas personas cumplen con ambas condiciones?\n",
        "🤔*Se contó el número de personas que reciben terapia y tienen un nivel de estrés por debajo de la mediana.*"
      ],
      "metadata": {
        "id": "lbmrqcbmuM5B"
      }
    },
    {
      "cell_type": "markdown",
      "source": [
        "\n",
        "\n",
        "¿Qué conclusiones puedes hacer sobre la relación entre terapia y nivel de estrés en este conjunto?\n",
        " 🤔 *Si muchas personas en terapia presentan niveles bajos de estrés, esto podría sugerir que la terapia tiene un impacto positivo en la reducción del estrés. Sin embargo, habría que analizar otros factores para confirmar la relación causal.*\n",
        "\n",
        "\n",
        "\n",
        "\n",
        "\n",
        "\n",
        "\n"
      ],
      "metadata": {
        "id": "nsT9JEaZpPkb"
      }
    },
    {
      "cell_type": "code",
      "source": [
        "# Paso 7: Guardado de Resultados\n",
        "low_stress_therapy = mental_health[(mental_health['Therapy'] == True) & (mental_health['Stress_Level'] < mental_health['Stress_Level'].median())]\n",
        "low_stress_therapy.to_csv('low_stress_therapy.csv', index=False)"
      ],
      "metadata": {
        "id": "rZJD9Pbvosd5"
      },
      "execution_count": 39,
      "outputs": []
    },
    {
      "cell_type": "markdown",
      "source": [
        "**Paso 8: Visualización Opcional**\n",
        "Para finalizar, crea un gráfico que muestre la media de autoestima (Self_Esteem_Score) según el género. Observa si hay diferencias entre géneros y reflexiona sobre los factores que podrían influir en esos resultados.\n",
        "\n",
        "¿Hay diferencias notables entre los géneros en cuanto a autoestima?\n",
        "🤔 *Si hay una diferencia visible en la media de autoestima entre géneros, esto podría indicar desigualdades en percepción de autoestima por género.*\n",
        "\n",
        "¿Qué factores del dataset podrían explicar estas diferencias?\n",
        "🤔 *Diferencias en niveles de ansiedad, depresión, apoyo social, experiencias de vida y otros factores psicológicos podrían estar relacionados con las variaciones en la autoestima.*\n"
      ],
      "metadata": {
        "id": "q06jaanCttbc"
      }
    },
    {
      "cell_type": "code",
      "source": [
        "plt.figure(figsize=(8, 5))\n",
        "sns.barplot(x=mental_health['Gender'],\n",
        "            y=mental_health['Self_Esteem_Score'],\n",
        "            estimator=np.mean,\n",
        "            ci=None,\n",
        "            palette=\"viridis\")\n",
        "\n",
        "plt.title('Media \"Self_Esteem_Score\" ')\n",
        "plt.xlabel('Género')\n",
        "plt.ylabel('Puntaje de Autoestima')\n",
        "plt.show()\n"
      ],
      "metadata": {
        "colab": {
          "base_uri": "https://localhost:8080/",
          "height": 689
        },
        "id": "857CTKRRuopy",
        "outputId": "35afd6dd-c2b8-4cb5-d009-9317d34fdaca"
      },
      "execution_count": 42,
      "outputs": [
        {
          "output_type": "stream",
          "name": "stderr",
          "text": [
            "<ipython-input-42-403798c0beec>:2: FutureWarning: \n",
            "\n",
            "The `ci` parameter is deprecated. Use `errorbar=None` for the same effect.\n",
            "\n",
            "  sns.barplot(x=mental_health['Gender'],\n",
            "<ipython-input-42-403798c0beec>:2: FutureWarning: \n",
            "\n",
            "Passing `palette` without assigning `hue` is deprecated and will be removed in v0.14.0. Assign the `x` variable to `hue` and set `legend=False` for the same effect.\n",
            "\n",
            "  sns.barplot(x=mental_health['Gender'],\n"
          ]
        },
        {
          "output_type": "display_data",
          "data": {
            "text/plain": [
              "<Figure size 800x500 with 1 Axes>"
            ],
            "image/png": "[encoded data removed]"
          },
          "metadata": {}
        }
      ]
    }
  ],
  "metadata": {
    "kernelspec": {
      "display_name": "mcd-projectsI2025a",
      "language": "python",
      "name": "python3"
    },
    "language_info": {
      "name": "python",
      "version": "3.13.0"
    },
    "colab": {
      "provenance": []
    }
  },
  "nbformat": 4,
  "nbformat_minor": 0
}